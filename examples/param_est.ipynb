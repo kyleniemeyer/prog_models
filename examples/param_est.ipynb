{
 "cells": [
  {
   "attachments": {},
   "cell_type": "markdown",
   "metadata": {},
   "source": [
    "# Welcome to the Parameter Estimation Feature Example"
   ]
  },
  {
   "attachments": {},
   "cell_type": "markdown",
   "metadata": {},
   "source": [
    "The goal of this notebook is to instruct ProgPy users on how to use the estimate_params feature for PrognosticModels.\n",
    "\n",
    "First some background. Parameter estimation is used to tune the parameters of a general model so its behavior matches the behavior of a specific system. For example, parameters of the battery model can be tuned to configure the model to describe the behavior of a specific battery.\n",
    "\n",
    "Generally, parameter estimation is done by tuning the parameters of the model so that simulation best matches the behavior observed in some available data. In ProgPy, this is done using the prog_models.PrognosticsModel.estimate_params() method. This method takes input and output data from one or more runs, and uses scipy.optimize.minimize function to estimate the parameters of the model. For more information, refer to our Documentation [here](https://nasa.github.io/progpy/prog_models_guide.html#parameter-estimation)\n",
    "\n",
    "A few definitions:\n",
    "* __`keys`__ `(list[str])`: Parameter keys to optimize\n",
    "* __`times`__ `(list[float])`: Array of times for each run\n",
    "* __`inputs`__ `(list[InputContainer])`: Array of input containers where inputs[x] corresponds to times[x]\n",
    "* __`outputs`__ `(list[OutputContainer])`: Array of output containers where outputs[x] corresponds to times[x]\n",
    "* __`method`__ `(str, optional)`: Optimization method- see scipy.optimize.minimize for options\n",
    "* __`tol`__ `(int, optional)`: Tolerance for termination. Depending on the provided minimization method, specifying tolerance sets solver-specific options to tol\n",
    "* __`error_method`__ `(str, optional)`: Method to use in calculating error. See calc_error for options\n",
    "* __`bounds`__ `(tuple or dict, optional)`: Bounds for optimization in format ((lower1, upper1), (lower2, upper2), ...) or {key1: (lower1, upper1), key2: (lower2, upper2), ...}\n",
    "* __`options`__ `(dict, optional)`: Options passed to optimizer. See scipy.optimize.minimize for options"
   ]
  },
  {
   "attachments": {},
   "cell_type": "markdown",
   "metadata": {},
   "source": [
    "#### Example 1) Simple Example"
   ]
  },
  {
   "attachments": {},
   "cell_type": "markdown",
   "metadata": {},
   "source": [
    "Now we will show an example demonstrating the model parameter estimation feature. In this example, we will be estimating the parameters for a model from data . In general, the data will usually be collected from the physical system or from a different model (model surrogacy). \n",
    "\n",
    "First, we will import a model from the ProgPy Package. For this example we're using the simple ThrownObject model."
   ]
  },
  {
   "cell_type": "code",
   "execution_count": 37,
   "metadata": {},
   "outputs": [],
   "source": [
    "from prog_models.models import ThrownObject"
   ]
  },
  {
   "attachments": {},
   "cell_type": "markdown",
   "metadata": {},
   "source": [
    "Now we can build a model with a best guess for the parameters.\n",
    "\n",
    "We will use a guess that our thrower is 20 meters tall. However, given our times, inputs, and outputs, we can clearly tell this is not true! Let's see if parameter estimation can fix this!"
   ]
  },
  {
   "cell_type": "code",
   "execution_count": 38,
   "metadata": {},
   "outputs": [],
   "source": [
    "m = ThrownObject(thrower_height=20)"
   ]
  },
  {
   "attachments": {},
   "cell_type": "markdown",
   "metadata": {},
   "source": [
    "Next, we will collect data from the system. Let's pretend we threw the ball once, and collected position measurements."
   ]
  },
  {
   "cell_type": "code",
   "execution_count": 39,
   "metadata": {},
   "outputs": [],
   "source": [
    "times = [0, 1, 2, 3, 4, 5, 6, 7, 8]\n",
    "inputs = [{}]*9\n",
    "outputs = [\n",
    "    {'x': 1.83},\n",
    "    {'x': 36.95},\n",
    "    {'x': 62.36},\n",
    "    {'x': 77.81},\n",
    "    {'x': 83.45},\n",
    "    {'x': 79.28},\n",
    "    {'x': 65.3},\n",
    "    {'x': 41.51},\n",
    "    {'x': 7.91},\n",
    "]"
   ]
  },
  {
   "attachments": {},
   "cell_type": "markdown",
   "metadata": {},
   "source": [
    "For this example, we will define specific parameters that we want to estimate.\n",
    "\n",
    "We can pass the desired parameters to our __keys__ keyword argument."
   ]
  },
  {
   "cell_type": "code",
   "execution_count": 40,
   "metadata": {},
   "outputs": [],
   "source": [
    "keys = ['thrower_height', 'throwing_speed']"
   ]
  },
  {
   "attachments": {},
   "cell_type": "markdown",
   "metadata": {},
   "source": [
    "To really see what `estimate_params()` is doing, we will print out the state before executing the estimation"
   ]
  },
  {
   "cell_type": "code",
   "execution_count": 41,
   "metadata": {},
   "outputs": [
    {
     "name": "stdout",
     "output_type": "stream",
     "text": [
      "Model configuration before\n",
      "- thrower_height 20\n",
      "- throwing_speed 40\n",
      " Error:  127.89964688122261\n"
     ]
    }
   ],
   "source": [
    "# Printing state before\n",
    "print('Model configuration before')\n",
    "for key in keys:\n",
    "    print(\"-\", key, m.parameters[key])\n",
    "print(' Error: ', m.calc_error(times, inputs, outputs, dt=1e-4))"
   ]
  },
  {
   "attachments": {},
   "cell_type": "markdown",
   "metadata": {},
   "source": [
    "Notice that the error is quite high. This indicates that the parameters are not accurate\n",
    "\n",
    "Now, we will run `estimate_params()` with the data to correct these parameters."
   ]
  },
  {
   "cell_type": "code",
   "execution_count": 42,
   "metadata": {},
   "outputs": [
    {
     "data": {
      "text/plain": [
       "       message: Optimization terminated successfully.\n",
       "       success: True\n",
       "        status: 0\n",
       "           fun: 0.4911056934178954\n",
       "             x: [ 7.293e-01  4.284e+01]\n",
       "           nit: 46\n",
       "          nfev: 91\n",
       " final_simplex: (array([[ 7.293e-01,  4.284e+01],\n",
       "                       [ 7.293e-01,  4.284e+01],\n",
       "                       [ 7.292e-01,  4.284e+01]]), array([ 4.911e-01,  4.911e-01,  4.911e-01]))"
      ]
     },
     "execution_count": 42,
     "metadata": {},
     "output_type": "execute_result"
    }
   ],
   "source": [
    "m.estimate_params(times = times, inputs = inputs, outputs = outputs, keys = keys, dt=0.01)"
   ]
  },
  {
   "attachments": {},
   "cell_type": "markdown",
   "metadata": {},
   "source": [
    "Now, let's see what the new parameters are after estimation."
   ]
  },
  {
   "cell_type": "code",
   "execution_count": 44,
   "metadata": {},
   "outputs": [
    {
     "name": "stdout",
     "output_type": "stream",
     "text": [
      "\n",
      "Optimized configuration\n",
      "- thrower_height 0.7292554347316501\n",
      "- throwing_speed 42.84041990312872\n",
      " Error:  0.5271861742108361\n"
     ]
    }
   ],
   "source": [
    "print('\\nOptimized configuration')\n",
    "for key in keys:\n",
    "    print(\"-\", key, m.parameters[key])\n",
    "print(' Error: ', m.calc_error(times, inputs, outputs, dt=1e-4))"
   ]
  },
  {
   "attachments": {},
   "cell_type": "markdown",
   "metadata": {},
   "source": [
    "Sure enough- parameter estimation determined that the thrower's height wasn't 20m, instead was closer to 1.9m, a much more reasonable height!"
   ]
  },
  {
   "attachments": {},
   "cell_type": "markdown",
   "metadata": {},
   "source": [
    "#### Example 2) Using Tol"
   ]
  },
  {
   "attachments": {},
   "cell_type": "markdown",
   "metadata": {},
   "source": [
    "An additional feature of the `estimate_params()` function is the tolerance feature, or `tol`. The `tol` makes our parameter estimation function to continue optimizing until we reach a particular error.\n",
    "\n",
    "In our previous example, note that our total Error was roughly 0.5272 after the `estimate_params()` call. Now, let us see what happens to the parameters when we set a low tolerance and bounds to their respective keys!\n",
    "\n",
    "First, let us create a more complicated example! In this example, we are selecting our thrower_height to be 29, our throwing_speed to be 3.1, and our g to be 10."
   ]
  },
  {
   "cell_type": "code",
   "execution_count": null,
   "metadata": {},
   "outputs": [],
   "source": [
    "m = ThrownObject()\n",
    "results = m.simulate_to_threshold(save_freq=0.5)\n",
    "# Resetting parameters to their originally incorrectly set values.\n",
    "m.parameters['thrower_height'] = 3.1\n",
    "m.parameters['throwing_speed'] = 29\n",
    "m.parameters['g'] = 10\n",
    "\n",
    "# Furthermore, changing our keys values to encompass all incorrectly set parameters\n",
    "keys = ['thrower_height', 'throwing_speed', 'g']"
   ]
  },
  {
   "attachments": {},
   "cell_type": "markdown",
   "metadata": {},
   "source": [
    "Then, we'll set the bounds of our values. Let's say that we know our thrower_height will be some value between -15 and 15, our throwing_speed somewhere between 24 and 42, and the gravity is somewhere between -20 and 10.\n",
    "\n",
    "Note that we are calling `simulate_to_threshold()` here instead of using data that is readily available. Typically, either data has been collected by the user, or the user can utilize our Simulation features to predict how the system would change overtime! More information can be found [here](https://nasa.github.io/progpy/prog_models_guide.html#simulation)!"
   ]
  },
  {
   "attachments": {},
   "cell_type": "markdown",
   "metadata": {},
   "source": [
    "Now that we have all our information, it's time to call our `estimate_params()`!"
   ]
  },
  {
   "cell_type": "code",
   "execution_count": 62,
   "metadata": {},
   "outputs": [
    {
     "data": {
      "text/plain": [
       "       message: Optimization terminated successfully.\n",
       "       success: True\n",
       "        status: 0\n",
       "           fun: 7.801993286885543e-10\n",
       "             x: [ 1.830e+00  4.000e+01 -9.810e+00]\n",
       "           nit: 106\n",
       "          nfev: 196\n",
       " final_simplex: (array([[ 1.830e+00,  4.000e+01, -9.810e+00],\n",
       "                       [ 1.830e+00,  4.000e+01, -9.810e+00],\n",
       "                       [ 1.830e+00,  4.000e+01, -9.810e+00],\n",
       "                       [ 1.830e+00,  4.000e+01, -9.810e+00]]), array([ 7.802e-10,  1.269e-09,  1.517e-09,  2.457e-09]))"
      ]
     },
     "execution_count": 62,
     "metadata": {},
     "output_type": "execute_result"
    }
   ],
   "source": [
    "m.estimate_params(times = results.times, inputs = results.inputs, outputs = results.outputs, keys = keys)"
   ]
  },
  {
   "cell_type": "code",
   "execution_count": 63,
   "metadata": {},
   "outputs": [
    {
     "name": "stdout",
     "output_type": "stream",
     "text": [
      "\n",
      "Optimized configuration\n",
      "- thrower_height 1.8299724661033296\n",
      "- throwing_speed 39.999991142242195\n",
      "- g -9.809984003214833\n",
      " Error:  7.801993286885543e-10\n"
     ]
    }
   ],
   "source": [
    "print('\\nOptimized configuration')\n",
    "for key in keys:\n",
    "    print(\"-\", key, m.parameters[key])\n",
    "print(' Error: ', m.calc_error(results.times, results.inputs, results.outputs))"
   ]
  },
  {
   "attachments": {},
   "cell_type": "markdown",
   "metadata": {},
   "source": [
    "Now, let's reset our parameters to their incorrect values, and then call `estimate_params()` with a low tolerance value passed in! in this case, we are passing in a value of __1e-9__ to `tol`"
   ]
  },
  {
   "cell_type": "code",
   "execution_count": 64,
   "metadata": {},
   "outputs": [
    {
     "name": "stdout",
     "output_type": "stream",
     "text": [
      "\n",
      "Optimized configuration\n",
      "- thrower_height 1.830000000159591\n",
      "- throwing_speed 39.99999999968104\n",
      "- g -9.809999999841754\n",
      " Error:  1.8703500551846052e-20\n"
     ]
    }
   ],
   "source": [
    "m.parameters['thrower_height'] = 3.1\n",
    "m.parameters['throwing_speed'] = 29\n",
    "m.parameters['g'] = 10\n",
    "m.estimate_params(times = results.times, inputs = results.inputs, outputs = results.outputs, keys = keys, tol=1e-9)\n",
    "print('\\nOptimized configuration')\n",
    "for key in keys:\n",
    "    print(\"-\", key, m.parameters[key])\n",
    "print(' Error: ', m.calc_error(results.times, results.inputs, results.outputs))"
   ]
  },
  {
   "attachments": {},
   "cell_type": "markdown",
   "metadata": {},
   "source": [
    "Note, if we were to set a high tolerance, such as 10, our error would consequently be very high!\n",
    "\n",
    "For more information on how the `tol` feature works, please consider scipy's `minimize()` documentation located [here](https://docs.scipy.org/doc/scipy/reference/generated/scipy.optimize.minimize.html)"
   ]
  },
  {
   "attachments": {},
   "cell_type": "markdown",
   "metadata": {},
   "source": [
    "#### Example 3) Handling Noise with multiple Runs"
   ]
  },
  {
   "attachments": {},
   "cell_type": "markdown",
   "metadata": {},
   "source": [
    "In the previous two examples, we have demonstrated how to use `estimate_params()` using a clearly defined ThrownObject model. However, unlike most models, we assumed that there would be 0 noise to our system!\n",
    "\n",
    "In this example, we'll show how `estimate_params()` may not necessarily produce optimal results when handling a system with noise."
   ]
  },
  {
   "cell_type": "code",
   "execution_count": 158,
   "metadata": {},
   "outputs": [],
   "source": [
    "m = ThrownObject(process_noise = 5)\n",
    "results = m.simulate_to_threshold(save_freq=0.5)\n",
    "# Resetting parameters to their originally incorrectly set values.\n",
    "m.parameters['thrower_height'] = 3.1\n",
    "m.parameters['throwing_speed'] = 29\n",
    "m.parameters['g'] = 10\n",
    "\n",
    "# Furthermore, changing our keys values to encompass all incorrectly set parameters\n",
    "keys = ['thrower_height', 'throwing_speed', 'g']"
   ]
  },
  {
   "cell_type": "code",
   "execution_count": 159,
   "metadata": {},
   "outputs": [
    {
     "name": "stdout",
     "output_type": "stream",
     "text": [
      "\n",
      "Optimized configuration\n",
      "- thrower_height -0.22878604854419288\n",
      "- throwing_speed 37.456713399968095\n",
      "- g -6.849388595539937\n",
      " Error:  4.478373002713862\n"
     ]
    }
   ],
   "source": [
    "m.estimate_params(times = results.times, inputs = results.inputs, outputs = results.outputs, keys = keys, tol=1e-9)\n",
    "print('\\nOptimized configuration')\n",
    "for key in keys:\n",
    "    print(\"-\", key, m.parameters[key])\n",
    "print(' Error: ', m.calc_error(results.times, results.inputs, results.outputs))"
   ]
  },
  {
   "cell_type": "code",
   "execution_count": 160,
   "metadata": {},
   "outputs": [
    {
     "name": "stdout",
     "output_type": "stream",
     "text": [
      "Estimate Call Number 1 - Error 1.3634043303765429\n",
      "Estimate Call Number 2 - Error 1.8628084188422855\n",
      "Estimate Call Number 3 - Error 3.7516413511693907\n",
      "Estimate Call Number 4 - Error 1.2408446971449003\n",
      "Estimate Call Number 5 - Error 0.6420996052854577\n",
      "Estimate Call Number 6 - Error 1.697869897826421\n",
      "Estimate Call Number 7 - Error 0.9685780910889981\n",
      "Estimate Call Number 8 - Error 13.121310439877108\n",
      "Estimate Call Number 9 - Error 1.037720790595792\n",
      "Estimate Call Number 10 - Error 2.3734203467645654\n"
     ]
    }
   ],
   "source": [
    "count = 1\n",
    "while count <= 10:\n",
    "    m = ThrownObject(process_noise = 5)\n",
    "    results = m.simulate_to_threshold(save_freq=0.5)\n",
    "    # Resetting parameters to their originally incorrectly set values.\n",
    "    m.parameters['thrower_height'] = 3.1\n",
    "    m.parameters['throwing_speed'] = 29\n",
    "    m.parameters['g'] = 10\n",
    "\n",
    "    m.estimate_params(times = results.times, inputs = results.inputs, outputs = results.outputs, keys = keys, tol=1e-9)\n",
    "    print(f'Estimate Call Number {count} - Error {m.calc_error(results.times, results.inputs, results.outputs)}')\n",
    "    count += 1"
   ]
  },
  {
   "attachments": {},
   "cell_type": "markdown",
   "metadata": {},
   "source": [
    "Behind the scenes, `estimate_params()` applies the `calc_error()` method to each run independently (e.g., Run 0 = (times[]))\n",
    "\n",
    "`estimate_params()` creates a structure of 'runs' by taking each index of times, inputs, and outputs and placing them into a tuple.\n",
    "\n",
    "                `runs = [(t, u, z) for t, u, z in zip(times, inputs, outputs)]`"
   ]
  },
  {
   "cell_type": "code",
   "execution_count": 161,
   "metadata": {},
   "outputs": [
    {
     "name": "stdout",
     "output_type": "stream",
     "text": [
      "[[[0.0, 0.5, 1.0, 1.5, 2.0, 2.5, 3.0, 3.5, 4.0, 4.5, 5.0, 5.5, 6.0], [0.0, 0.5, 1.0, 1.5, 2.0, 2.5, 3.0, 3.5]], [[{}, {}, {}, {}, {}, {}, {}, {}, {}, {}, {}, {}, {}], [{}, {}, {}, {}, {}, {}, {}, {}]], [[{'x': 1.83}, {'x': 22.654459486480604}, {'x': 37.70311353702431}, {'x': 50.89405789118343}, {'x': 65.482622411559}, {'x': 79.8989962785338}, {'x': 87.75708133725598}, {'x': 93.25853719393618}, {'x': 97.45138519354721}, {'x': 103.97048677716953}, {'x': 104.96897057179955}, {'x': 104.71395470333907}, {'x': 104.0551771159573}], [{'x': 1.83}, {'x': 23.043648825583684}, {'x': 41.49166447140896}, {'x': 57.26935513400038}, {'x': 68.92804661696344}, {'x': 74.71602765251818}, {'x': 78.04692888305398}, {'x': 83.22977152288806}]]]\n"
     ]
    }
   ],
   "source": [
    "runs = [[], [], []]\n",
    "count = 1\n",
    "while count <= 2:\n",
    "    m = ThrownObject(process_noise = 5)\n",
    "    results = m.simulate_to_threshold(save_freq=0.5)\n",
    "    # Resetting parameters to their originally incorrectly set values.\n",
    "    m.parameters['thrower_height'] = 3.1\n",
    "    m.parameters['throwing_speed'] = 29\n",
    "    m.parameters['g'] = 10\n",
    "    \n",
    "    runs[0].append(results.times)\n",
    "    runs[1].append(results.inputs)\n",
    "    runs[2].append(results.outputs)\n",
    "    count+=1\n",
    "\n",
    "print(runs)"
   ]
  },
  {
   "cell_type": "code",
   "execution_count": 162,
   "metadata": {},
   "outputs": [
    {
     "name": "stdout",
     "output_type": "stream",
     "text": [
      "\n",
      "Optimized configuration\n",
      "- thrower_height 4.299458871395924\n",
      "- throwing_speed 36.37013527024516\n",
      "- g -6.247809502308351\n",
      " Error:  32.12391529391421\n"
     ]
    }
   ],
   "source": [
    "m.estimate_params(times = runs[0], inputs = runs[1], outputs = runs[2], keys = keys)\n",
    "print('\\nOptimized configuration')\n",
    "for key in keys:\n",
    "    print(\"-\", key, m.parameters[key])\n",
    "print(' Error: ', m.calc_error(runs[0], runs[1], runs[2], dt=1e-4))"
   ]
  },
  {
   "attachments": {},
   "cell_type": "markdown",
   "metadata": {},
   "source": [
    "Using our optimization function, which runs `calc_error()` as a subroutine (more information about `calc_error()` found in our Calculating Error Example), given each of the runs.\n",
    "\n",
    "You can also adjust the metric that is used to estimate parameters by setting the error_method to a different `calc_error()` method.\n",
    "e.g., m.estimate_params([(times, inputs, outputs)], keys, dt=0.01, error_method='MAX_E')\n",
    "Default is Mean Squared Error (MSE)\n",
    "See calc_error method for list of options."
   ]
  },
  {
   "attachments": {},
   "cell_type": "markdown",
   "metadata": {},
   "source": [
    "* Cover multiple inputs, range of inputs at different levels, to make sure the model works for all runs, then do it multiple times,\n",
    "* Or if there is noise, and you'll need multiple runs.\n",
    "\n",
    "=============\n",
    "* ONE RUN WITH NOISE, THEN SHOW IT'S NOT VERY GOOD\n",
    "* Why multiple runs with the noise, both noises work, run estimate_params(), not very good of a job with one run.\n",
    "* Add tolerance, and change the error calculation metric, (just a note for error calculation metric)."
   ]
  },
  {
   "attachments": {},
   "cell_type": "markdown",
   "metadata": {},
   "source": []
  }
 ],
 "metadata": {
  "kernelspec": {
   "display_name": "Python 3",
   "language": "python",
   "name": "python3"
  },
  "language_info": {
   "codemirror_mode": {
    "name": "ipython",
    "version": 3
   },
   "file_extension": ".py",
   "mimetype": "text/x-python",
   "name": "python",
   "nbconvert_exporter": "python",
   "pygments_lexer": "ipython3",
   "version": "3.9.2"
  },
  "orig_nbformat": 4
 },
 "nbformat": 4,
 "nbformat_minor": 2
}
